{
 "cells": [
  {
   "cell_type": "code",
   "execution_count": null,
   "metadata": {},
   "outputs": [],
   "source": [
    "import os\n",
    "os.chdir('..')"
   ]
  },
  {
   "cell_type": "code",
   "execution_count": null,
   "metadata": {},
   "outputs": [],
   "source": [
    "from src.data_peparation import get_q3data\n",
    "import xgboost as xgb\n",
    "import json\n",
    "from sklearn.preprocessing import LabelEncoder\n",
    "from sklearn.model_selection import train_test_split\n",
    "from imblearn.over_sampling import SMOTE\n",
    "from sklearn.metrics import classification_report, accuracy_score, f1_score\n",
    "import pandas as pd\n",
    "import matplotlib.pyplot as plt\n",
    "import seaborn as sns"
   ]
  },
  {
   "cell_type": "code",
   "execution_count": null,
   "metadata": {},
   "outputs": [],
   "source": [
    "\n",
    "task3_data = get_q3data()\n",
    "\n",
    "encoder = LabelEncoder()\n",
    "forecast_targets = [\n",
    "    (205, \"SO2\", \"2023-11-01\", \"2023-12-01\"),\n",
    "    (209, \"NO2\", \"2023-09-01\", \"2023-10-01\"),\n",
    "    (223, \"O3\", \"2023-07-01\", \"2023-08-01\"),\n",
    "    (224, \"CO\", \"2023-10-01\", \"2023-11-01\"),\n",
    "    (226, \"PM10\", \"2023-08-01\", \"2023-09-01\"),\n",
    "    (227, \"PM2.5\", \"2023-12-01\", \"2024-01-01\"),\n",
    "]\n",
    "\n",
    "predictions = {\"target\": {}}\n",
    "\n",
    "for t in forecast_targets:\n",
    "    station = t[0]\n",
    "    df_model = task3_data.copy()\n",
    "    target = t[1] + \"anomalies\"\n",
    "    start_date = t[2]\n",
    "    end_date = t[3]\n",
    "\n",
    "    anomalies_columns = [col for col in df_model.columns if \"anomalies\" in col]\n",
    "    drop_columns = [\"Measurement date\"] + anomalies_columns\n",
    "    df_model.dropna(subset=[target], inplace=True)\n",
    "    df_model.dropna(inplace=True)\n",
    "    features = df_model.drop(columns=drop_columns)\n",
    "    X = features.values\n",
    "    y = df_model[target].astype(int)\n",
    "    y = encoder.fit_transform(y)\n",
    "    X_train, X_test, y_train, y_test = train_test_split(X, y, test_size=0.2, random_state=42, stratify=y)\n",
    "\n",
    "    smote = SMOTE(sampling_strategy='auto', random_state=42)\n",
    "    X_train, y_train = smote.fit_resample(X_train, y_train)\n",
    "\n",
    "\n",
    "    model = xgb.XGBClassifier(\n",
    "        n_estimators=1500, learning_rate=0.2, max_depth=3, random_state=42,\n",
    "        enable_categorical=True, early_stopping_rounds=50,objective='multi:softprob',eval_metric=\"mlogloss\")\n",
    "    model.fit(X_train, y_train, eval_set=[(X_test, y_test)], verbose=True)\n",
    "\n",
    "    print(f\"Station: {station}\")\n",
    "    print(f\"Target: {target}\")\n",
    "    y_pred = model.predict(X_test)\n",
    "\n",
    "\n",
    "    print(classification_report(y_test, y_pred))\n",
    "    print(\"Accuracy:\", accuracy_score(y_test, y_pred))\n",
    "    print(\"F1 Score:\", f1_score(y_test, y_pred, average='weighted'))\n",
    "\n",
    "    mask = (task3_data[\"Measurement date\"] >= start_date) & (task3_data[\"Measurement date\"] < end_date) & (task3_data[\"Station code\"] == station)\n",
    "    df_filtered = task3_data.loc[mask].reset_index(drop=True)\n",
    "    future_dates = df_filtered[\"Measurement date\"]\n",
    "    df_filtered.drop(columns=[\"Measurement date\"], inplace=True)\n",
    "    y_pred = model.predict(df_filtered.drop(columns=anomalies_columns)).flatten().tolist()\n",
    "\n",
    "    y_pred = encoder.inverse_transform(y_pred)\n",
    "\n",
    "    predictions[\"target\"][str(station)] = {str(date): int(val) for date, val in zip(future_dates, y_pred)}\n",
    "\n",
    "\n",
    "\n",
    "output_path = \"predictions/predictions_task_3_.json\"\n",
    "with open(output_path, \"w\") as f:\n",
    "    json.dump(predictions, f, indent=2)\n",
    "\n",
    "print(f\"Predicciones guardadas en {output_path}\")"
   ]
  },
  {
   "cell_type": "code",
   "execution_count": null,
   "metadata": {},
   "outputs": [],
   "source": [
    "feature_importances = model.feature_importances_\n",
    "\n",
    "\n",
    "importances = pd.DataFrame({\"Feature\": features.columns, \"Importance\": feature_importances})\n",
    "importances = importances.sort_values(by=\"Importance\", ascending=False)\n",
    "plt.figure(figsize=(10, 6))\n",
    "plt.title(\"Feature Importances\")\n",
    "sns.barplot(x=\"Importance\", y=\"Feature\", data=importances.head(10))\n",
    "plt.tight_layout()\n",
    "plt.show()\n"
   ]
  }
 ],
 "metadata": {
  "kernelspec": {
   "display_name": ".venv",
   "language": "python",
   "name": "python3"
  },
  "language_info": {
   "codemirror_mode": {
    "name": "ipython",
    "version": 3
   },
   "file_extension": ".py",
   "mimetype": "text/x-python",
   "name": "python",
   "nbconvert_exporter": "python",
   "pygments_lexer": "ipython3",
   "version": "3.13.0"
  }
 },
 "nbformat": 4,
 "nbformat_minor": 2
}
