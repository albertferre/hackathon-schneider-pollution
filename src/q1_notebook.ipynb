{
 "cells": [
  {
   "cell_type": "code",
   "execution_count": 1,
   "metadata": {},
   "outputs": [],
   "source": [
    "import os\n",
    "os.chdir('..')"
   ]
  },
  {
   "cell_type": "code",
   "execution_count": 2,
   "metadata": {},
   "outputs": [],
   "source": [
    "import json\n",
    "from src.data_peparation import get_q1data"
   ]
  },
  {
   "cell_type": "code",
   "execution_count": null,
   "metadata": {},
   "outputs": [],
   "source": [
    "data, instrument_data = get_q1data()\n",
    "results = {}\n",
    "\n",
    "# Q1: Average daily SO2 concentration\n",
    "results[\"Q1\"] = float(round(data[data[\"Item name\"] == \"SO2\"].groupby(\"Station code\")[\"Average value\"].mean().mean(), 5))\n",
    "\n",
    "# Q2: Average CO levels by season at station 209\n",
    "results[\"Q2\"] = data[(data[\"Station code\"] == 209) & (data[\"Item name\"] == \"CO\")].groupby(\"season\")[\"Average value\"].mean().round(5).to_dict()\n",
    "\n",
    "# Q3: Hour with highest O3 variability\n",
    "\n",
    "results[\"Q3\"] = int(data[data[\"Item name\"] == \"O3\"].groupby(\"hour\")[\"Average value\"].std().idxmax())\n",
    "\n",
    "# Q4: Station with most \"Abnormal data\" readings\n",
    "results[\"Q4\"] = int(instrument_data[instrument_data[\"Instrument status\"] == 9][\"Station code\"].value_counts().idxmax())\n",
    "\n",
    "# Q5: Station with most non-normal measurements\n",
    "results[\"Q5\"] = int(instrument_data[instrument_data[\"Instrument status\"] != 0][\"Station code\"].value_counts().idxmax())\n",
    "\n",
    "# Q6: Count of \"Good\", \"Normal\", \"Bad\", \"Very bad\" PM2.5 records\n",
    "pm25_data = data[data[\"Item name\"] == \"PM2.5\"]\n",
    "results[\"Q6\"] = pm25_data[\"Category\"].value_counts().to_dict()\n",
    "\n",
    "with open(\"predictions/questions.json\", \"w\") as f:\n",
    "    json.dump({\"target\": results}, f, indent=4)"
   ]
  }
 ],
 "metadata": {
  "kernelspec": {
   "display_name": ".venv",
   "language": "python",
   "name": "python3"
  },
  "language_info": {
   "codemirror_mode": {
    "name": "ipython",
    "version": 3
   },
   "file_extension": ".py",
   "mimetype": "text/x-python",
   "name": "python",
   "nbconvert_exporter": "python",
   "pygments_lexer": "ipython3",
   "version": "3.13.0"
  }
 },
 "nbformat": 4,
 "nbformat_minor": 2
}
